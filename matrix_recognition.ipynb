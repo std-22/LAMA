{
  "nbformat": 4,
  "nbformat_minor": 0,
  "metadata": {
    "colab": {
      "name": "Распознавание матриц.ipynb",
      "provenance": [],
      "collapsed_sections": []
    },
    "kernelspec": {
      "name": "python3",
      "display_name": "Python 3"
    },
    "language_info": {
      "name": "python"
    },
    "accelerator": "GPU"
  },
  "cells": [
    {
      "cell_type": "markdown",
      "metadata": {
        "id": "MMqie2bU08Bp"
      },
      "source": [
        "ТЗ: Необходмо написать нейронную сеть, для распознования рукописных и печатных матриц. Размер каждой матрицы ограничен вводом 6*6. Данные для решения задачи необходимо найти или сгенирировать самостоятельно. Для упрощения задачи, можно пока рассматривать только распознование одной матрицы."
      ]
    },
    {
      "cell_type": "markdown",
      "metadata": {
        "id": "sVJFpBZRtu0-"
      },
      "source": [
        "https://proglib.io/p/neural-network-course/\n",
        "\n",
        "https://programforyou.ru/poleznoe/convolutional-network-from-scratch-part-zero-introduction"
      ]
    },
    {
      "cell_type": "markdown",
      "metadata": {
        "id": "Ok2l6uCdQQYt"
      },
      "source": [
        "Мне кажется, первым шагом должно быть построение классификатора, который определяет, на картинке изображена матрица или не матрица. \n",
        "Если это будет матрица, то стоит большую картинку матрицы делить на много маленьких с единственным числом на каждой, запоминая их порядок."
      ]
    },
    {
      "cell_type": "markdown",
      "metadata": {
        "id": "eY772I-bK6Kr"
      },
      "source": [
        "Будем использовать mnist, в train_y лежат размеченные данные"
      ]
    },
    {
      "cell_type": "code",
      "metadata": {
        "id": "nwhuF8c4qUo_"
      },
      "source": [
        "import matplotlib.pyplot as plt\n",
        "import numpy as np\n",
        "import random\n",
        "import cv2\n",
        "from google.colab.patches import cv2_imshow\n",
        "\n",
        "# Импортируем основные модули pytorch\n",
        "import torch\n",
        "import torch.nn as nn\n",
        "from torch.utils.data import DataLoader\n",
        "torch.manual_seed(178)\n",
        "random.seed(178)\n",
        "\n",
        "# Импортируем модули, связанные с компьютерным зрением\n",
        "from torchvision import datasets\n",
        "import torchvision.transforms as transforms\n",
        "\n",
        "# Импортируем вспомогательные модули\n",
        "from sklearn.metrics import accuracy_score"
      ],
      "execution_count": null,
      "outputs": []
    },
    {
      "cell_type": "markdown",
      "source": [
        "### Импорт данных"
      ],
      "metadata": {
        "id": "JWM8jG56e24z"
      }
    },
    {
      "cell_type": "code",
      "source": [
        "rotate_transform = [transforms.RandomRotation(30)]\n",
        "rotate_transform=transforms.Compose([ \n",
        "    transforms.RandomApply(rotate_transform, p=0.7),\n",
        "    transforms.ToTensor()\n",
        "])"
      ],
      "metadata": {
        "id": "T9LGRfTnm0Gb"
      },
      "execution_count": null,
      "outputs": []
    },
    {
      "cell_type": "code",
      "metadata": {
        "id": "MROnb82ULVXP"
      },
      "source": [
        "# Задаем количество эпох (проходов по всей обучающей выборке) и размер пакета, можно варьировать\n",
        "EPOCHS = 10\n",
        "BATCH_SIZE = 128\n",
        "\n",
        "# Загружаем данные из набора MNIST\n",
        "train_data = datasets.MNIST(root='./data/train', train=True, download=True, transform=rotate_transform)\n",
        "test_data = datasets.MNIST(root='./data/test', train=False, download=True, transform=rotate_transform)\n",
        "\n",
        "# DataLoader позволяет разбить выборку на пакеты заданного размера.\n",
        "# Параметр shuffle отвечает за перемешивание данных в пакете\n",
        "train_loader = DataLoader(train_data, batch_size=BATCH_SIZE, shuffle=True)"
      ],
      "execution_count": null,
      "outputs": []
    },
    {
      "cell_type": "code",
      "source": [
        "plt.imshow(train_data[30][0][0], cmap=plt.get_cmap('gray'))"
      ],
      "metadata": {
        "colab": {
          "base_uri": "https://localhost:8080/",
          "height": 282
        },
        "id": "GZg8d98JfoM-",
        "outputId": "f9cbae7d-b88e-4345-df98-1c5fc6d63945"
      },
      "execution_count": null,
      "outputs": [
        {
          "output_type": "execute_result",
          "data": {
            "text/plain": [
              "<matplotlib.image.AxesImage at 0x7fdccc5c3b90>"
            ]
          },
          "metadata": {},
          "execution_count": 114
        },
        {
          "output_type": "display_data",
          "data": {
            "text/plain": [
              "<Figure size 432x288 with 1 Axes>"
            ],
            "image/png": "[encoded data removed]"
          },
          "metadata": {
            "needs_background": "light"
          }
        }
      ]
    },
    {
      "cell_type": "markdown",
      "source": [
        "### Обучение"
      ],
      "metadata": {
        "id": "uXX2sUs9g-gN"
      }
    },
    {
      "cell_type": "code",
      "source": [
        "class LeNet(nn.Module):\n",
        "\n",
        "    def __init__(self):\n",
        "        super().__init__()\n",
        "        self.conv1 = nn.Conv2d(1, 6, 5, 1, 2)\n",
        "        self.conv2 = nn.Conv2d(6, 16, 5, 1, 0)\n",
        "        self.conv3 = nn.Conv2d(16, 120, 5, 1, 0)\n",
        "        self.pool = nn.AvgPool2d(2, 2)\n",
        "        self.linear1 = nn.Linear(120, 84)\n",
        "        self.linear2 = nn.Linear(84, 10)\n",
        "        # ===============\n",
        "\n",
        "    def forward(self, x):\n",
        "        x = torch.tanh(self.conv1(x)) #28 * 28 * 6\n",
        "        x = self.pool(x) #14 * 14 * 6\n",
        "        x = torch.tanh(self.conv2(x)) #10 * 10 * 16\n",
        "        x = self.pool(x) #5 * 5 * 16\n",
        "        x = torch.tanh(self.conv3(x)) #1 * 1 * 120 = 120\n",
        "        x = x.view(x.size(0), -1) #120\n",
        "        x = torch.tanh(self.linear1(x))\n",
        "        x = self.linear2(x)\n",
        "        return x\n",
        "        # ==============="
      ],
      "metadata": {
        "id": "ZpTycdrLgRsY"
      },
      "execution_count": null,
      "outputs": []
    },
    {
      "cell_type": "code",
      "source": [
        "# Если графический ускоритель поддерживает обучение на нем, будем использовать его,\n",
        "# иначе обучать на процессоре.\n",
        "device = 'cuda' if torch.cuda.is_available() else 'cpu'"
      ],
      "metadata": {
        "id": "xBIp9s0whV82"
      },
      "execution_count": null,
      "outputs": []
    },
    {
      "cell_type": "code",
      "source": [
        "# Готовимся к обучению\n",
        "model = LeNet().to(device)  # создаем модель\n",
        "optimizer = torch.optim.SGD(model.parameters(), lr=0.11)  # оптимизатор, нужно выбрать и настроить\n",
        "loss_function = nn.CrossEntropyLoss()  # функция потерь, нужно выбрать\n",
        "loss_history = list()  # список для хранения истории изменения функции стоимости"
      ],
      "metadata": {
        "id": "W-_NDNNhhB7p"
      },
      "execution_count": null,
      "outputs": []
    },
    {
      "cell_type": "code",
      "source": [
        "# Начинаем обучение\n",
        "for epoch in range(EPOCHS):\n",
        "    for i, (batch, labels) in enumerate(train_loader):  # разбиваем выборку на пакеты\n",
        "        # Нужно реализовать один шаг градиентного спуска\n",
        "        loss = torch.tensor(0, dtype=torch.float32)  # значение функции стоимости на пакете, нужно рассчитать\n",
        "        optimizer.zero_grad()\n",
        "        batch = batch.to(device)\n",
        "        labels = labels.to(device)\n",
        "        output = model(batch)\n",
        "        loss = loss_function(output, labels)\n",
        "        loss.backward()\n",
        "        optimizer.step()\n",
        "        # ===============\n",
        "        loss_history.append(loss.log().item())  # добавляется логарифм стоимости для большей наглядности\n",
        "    print(f'Эпоха {epoch + 1} завершилась с функцией стоимости на последнем пакете = {loss.item()}')\n",
        "    \n",
        "\n",
        "# Отключаем расчет вычислительного графа для экономии времени и памяти: нам не нужно считать градиенты при тестировании модели\n",
        "with torch.no_grad():\n",
        "    # Оцениваем качество модели\n",
        "    train_data_loader = DataLoader(train_data, batch_size=len(train_data))\n",
        "    train_features, train_targets = next(iter(train_data_loader))\n",
        "\n",
        "    train_features = train_features.to(device)\n",
        "    train_model_predictions = torch.argmax(model(train_features), dim=1)\n",
        "    print('Точность (accuracy) на обучающей выборке:', accuracy_score(train_data.targets, train_model_predictions.cpu()))\n",
        "\n",
        "    test_data_loader = DataLoader(test_data, batch_size=len(test_data))\n",
        "    test_features, test_targets = next(iter(test_data_loader))\n",
        "\n",
        "    test_features = test_features.to(device)\n",
        "    test_model_predictions = torch.argmax(model(test_features), dim=1)\n",
        "    print('Точность (accuracy) на тестовой выборке:', accuracy_score(test_data.targets, test_model_predictions.cpu()))"
      ],
      "metadata": {
        "colab": {
          "base_uri": "https://localhost:8080/"
        },
        "id": "oZgLMRF7iDBr",
        "outputId": "73b74de7-f618-4ff1-99c8-0895efa0da14"
      },
      "execution_count": null,
      "outputs": [
        {
          "output_type": "stream",
          "name": "stdout",
          "text": [
            "Эпоха 1 завершилась с функцией стоимости на последнем пакете = 0.2678568363189697\n",
            "Эпоха 2 завершилась с функцией стоимости на последнем пакете = 0.2669723331928253\n",
            "Эпоха 3 завершилась с функцией стоимости на последнем пакете = 0.1455843597650528\n",
            "Эпоха 4 завершилась с функцией стоимости на последнем пакете = 0.05829780176281929\n",
            "Эпоха 5 завершилась с функцией стоимости на последнем пакете = 0.0562719888985157\n",
            "Эпоха 6 завершилась с функцией стоимости на последнем пакете = 0.11685680598020554\n",
            "Эпоха 7 завершилась с функцией стоимости на последнем пакете = 0.05930249020457268\n",
            "Эпоха 8 завершилась с функцией стоимости на последнем пакете = 0.18908435106277466\n",
            "Эпоха 9 завершилась с функцией стоимости на последнем пакете = 0.06201818212866783\n",
            "Эпоха 10 завершилась с функцией стоимости на последнем пакете = 0.07066763192415237\n",
            "Точность (accuracy) на обучающей выборке: 0.9816\n",
            "Точность (accuracy) на тестовой выборке: 0.9811\n"
          ]
        }
      ]
    },
    {
      "cell_type": "markdown",
      "source": [
        "Необходимо проверить как алгоритм распознает реальное фото с цифрой\n",
        "\n",
        "\n",
        "1.   Выделить контур\n",
        "2.   Преобразование картинки к типу mnist\n",
        "3.   Аугументация поворотом\n",
        "4.   Kaggle\n",
        "\n"
      ],
      "metadata": {
        "id": "Wa-VLmZQwNVO"
      }
    },
    {
      "cell_type": "code",
      "source": [
        "## Reading an image\n",
        "image = cv2.imread(\"/content/4.jpg\", cv2.IMREAD_UNCHANGED)\n",
        "print(\"Original shape: \", image.shape)\n",
        "\n",
        "## New width and height to resize the image\n",
        "width = 28\n",
        "height = 28\n",
        "\n",
        "ret, thresh2 = cv2.threshold(image, 127, 255, cv2.THRESH_BINARY_INV)\n",
        "gray = cv2.cvtColor(thresh2, cv2.COLOR_BGR2GRAY)\n",
        "resized_image = cv2.resize(gray, (width, height), interpolation=cv2.INTER_AREA)\n",
        "\n",
        "#kernel = np.ones((2, 1), 'uint8')\n",
        "##resized_image = cv2.erode(resized_image, kernel, iterations=1)\n",
        "# kernel = np.ones((1, 2), 'uint8')\n",
        "# resized_image = cv2.erode(resized_image, kernel, iterations=1)\n",
        "# kernel = np.ones((1, 1), 'uint8')\n",
        "# resized_image = cv2.dilate(resized_image, kernel, iterations=3)\n",
        "\n",
        "print(\"Resized shape: \", resized_image.shape)\n",
        "## Displaying the image\n",
        "cv2_imshow(resized_image)"
      ],
      "metadata": {
        "colab": {
          "base_uri": "https://localhost:8080/",
          "height": 80
        },
        "id": "o8uIA5R7EAYJ",
        "outputId": "2f4aacbb-e3f9-437e-e6d1-8f3b39170ec1"
      },
      "execution_count": null,
      "outputs": [
        {
          "output_type": "stream",
          "name": "stdout",
          "text": [
            "Original shape:  (102, 85, 3)\n",
            "Resized shape:  (28, 28)\n"
          ]
        },
        {
          "output_type": "display_data",
          "data": {
            "text/plain": [
              "<PIL.Image.Image image mode=L size=28x28 at 0x7FDCCF0F5E10>"
            ],
            "image/png": "[encoded data removed]"
          },
          "metadata": {}
        }
      ]
    },
    {
      "cell_type": "code",
      "source": [
        "torch_image = torch.tensor(resized_image.astype(np.float32))[None, None, ...].to(device)\n",
        "print(torch_image.shape)\n",
        "output = model(torch_image)\n",
        "print(output)\n",
        "test_image_prediction = torch.argmax(output, dim=1)\n",
        "print(test_image_prediction)\n",
        "plt.imshow(resized_image, cmap=plt.get_cmap('gray'))"
      ],
      "metadata": {
        "colab": {
          "base_uri": "https://localhost:8080/",
          "height": 352
        },
        "id": "Rk_ViFbIEKbu",
        "outputId": "4820ba20-1c4e-4ee4-e7ca-815198a60618"
      },
      "execution_count": null,
      "outputs": [
        {
          "output_type": "stream",
          "name": "stdout",
          "text": [
            "torch.Size([1, 1, 28, 28])\n",
            "tensor([[ 5.5852, -9.5381, -2.0254, -0.7195,  0.3518,  1.8180,  1.3997, -2.9347,\n",
            "          3.5906,  2.6569]], device='cuda:0', grad_fn=<AddmmBackward0>)\n",
            "tensor([0], device='cuda:0')\n"
          ]
        },
        {
          "output_type": "execute_result",
          "data": {
            "text/plain": [
              "<matplotlib.image.AxesImage at 0x7fdccebca790>"
            ]
          },
          "metadata": {},
          "execution_count": 49
        },
        {
          "output_type": "display_data",
          "data": {
            "text/plain": [
              "<Figure size 432x288 with 1 Axes>"
            ],
            "image/png": "[encoded data removed]"
          },
          "metadata": {
            "needs_background": "light"
          }
        }
      ]
    },
    {
      "cell_type": "code",
      "source": [
        "output = model(train_data[30][0][None, ...].to(device)).float()\n",
        "print(output)\n",
        "test_image_prediction = torch.argmax(output, dim=1)\n",
        "print(test_image_prediction)\n",
        "plt.imshow(train_data[30][0][0], cmap=plt.get_cmap('gray'))"
      ],
      "metadata": {
        "colab": {
          "base_uri": "https://localhost:8080/",
          "height": 334
        },
        "id": "Sz0R9_VUFJoQ",
        "outputId": "d88e39ff-a449-43e6-89d5-4abe59500174"
      },
      "execution_count": null,
      "outputs": [
        {
          "output_type": "stream",
          "name": "stdout",
          "text": [
            "tensor([[-5.1614,  2.5313,  1.9686,  9.9226, -4.1840, -0.9149, -7.2705,  2.4398,\n",
            "          3.5897, -3.7447]], device='cuda:0', grad_fn=<AddmmBackward0>)\n",
            "tensor([3], device='cuda:0')\n"
          ]
        },
        {
          "output_type": "execute_result",
          "data": {
            "text/plain": [
              "<matplotlib.image.AxesImage at 0x7fdcce30d750>"
            ]
          },
          "metadata": {},
          "execution_count": 57
        },
        {
          "output_type": "display_data",
          "data": {
            "text/plain": [
              "<Figure size 432x288 with 1 Axes>"
            ],
            "image/png": "[encoded data removed]"
          },
          "metadata": {
            "needs_background": "light"
          }
        }
      ]
    },
    {
      "cell_type": "markdown",
      "source": [
        ""
      ],
      "metadata": {
        "id": "rK4eJT6yEB4S"
      }
    },
    {
      "cell_type": "markdown",
      "source": [
        ""
      ],
      "metadata": {
        "id": "fPN8f72MECCw"
      }
    },
    {
      "cell_type": "code",
      "source": [
        "## Reading an image\n",
        "image = cv2.imread(\"/content/5.jpg\", cv2.IMREAD_UNCHANGED)\n",
        "print(\"Original shape: \", image.shape)\n",
        "\n",
        "## New width and height to resize the image\n",
        "width = 28\n",
        "height = 28\n",
        "\n",
        "## To gray\n",
        "gray = cv2.cvtColor(image, cv2.COLOR_BGR2GRAY)\n",
        "\n",
        "## Resizing the image\n",
        "resized_image = cv2.resize(gray, (width, height), interpolation=cv2.INTER_AREA)\n",
        "print(\"Resized shape: \", resized_image.shape)\n",
        "\n",
        "kernel = np.ones((2, 2), 'uint8')\n",
        "\n",
        "resized_image = cv2.dilate(resized_image, kernel, iterations=1)\n",
        "\n",
        "## Displaying the image\n",
        "cv2_imshow(resized_image)"
      ],
      "metadata": {
        "colab": {
          "base_uri": "https://localhost:8080/",
          "height": 80
        },
        "id": "_-hAUrBcKRcQ",
        "outputId": "ddd2cf4c-7b29-4fff-d55f-e2a4659c9497"
      },
      "execution_count": null,
      "outputs": [
        {
          "output_type": "stream",
          "name": "stdout",
          "text": [
            "Original shape:  (108, 148, 3)\n",
            "Resized shape:  (28, 28)\n"
          ]
        },
        {
          "output_type": "display_data",
          "data": {
            "text/plain": [
              "<PIL.Image.Image image mode=L size=28x28 at 0x7FFA3D2B9090>"
            ],
            "image/png": "[encoded data removed]"
          },
          "metadata": {}
        }
      ]
    },
    {
      "cell_type": "code",
      "source": [
        "ret, thresh2 = cv2.threshold(resized_image, 127, 255, cv2.THRESH_BINARY_INV)\n",
        "gray = cv2.cvtColor(thresh2, cv2.COLOR_BGR2GRAY)\n",
        "cv2_imshow(gray)"
      ],
      "metadata": {
        "id": "H7X2R-QqBGk2"
      },
      "execution_count": null,
      "outputs": []
    },
    {
      "cell_type": "code",
      "source": [
        "# x = cv2.Sobel(resized_image,cv2.CV_16S,1,0)\n",
        "# y = cv2.Sobel(resized_image,cv2.CV_16S,0,1)\n",
        " \n",
        "# absX = cv2.convertScaleAbs(x)   # Переключиться обратно на uint8\n",
        "# absY = cv2.convertScaleAbs(y)\n",
        " \n",
        "# resized_image = cv2.erode(resized_image, kernel, iterations=1)\n",
        "\n",
        "# resized_image = cv2.addWeighted(absX,1,absY,0.7,0)\n",
        "\n",
        "# cv2_imshow(resized_image)"
      ],
      "metadata": {
        "colab": {
          "base_uri": "https://localhost:8080/",
          "height": 45
        },
        "id": "zu5KzM8Qr_uc",
        "outputId": "c75dbaa0-73a8-413c-c4e5-23397f43f04e"
      },
      "execution_count": null,
      "outputs": [
        {
          "output_type": "display_data",
          "data": {
            "text/plain": [
              "<PIL.Image.Image image mode=L size=28x28 at 0x7FFA3D0C2090>"
            ],
            "image/png": "[encoded data removed]"
          },
          "metadata": {}
        }
      ]
    },
    {
      "cell_type": "code",
      "source": [
        "torch_image = torch.tensor(gray.astype(np.float32))[None, None, ...].to(device)\n",
        "print(torch_image.shape)\n",
        "output = model(torch_image)\n",
        "print(output)\n",
        "test_image_prediction = torch.argmax(output, dim=1)\n",
        "print(test_image_prediction)\n",
        "plt.imshow(gray, cmap=plt.get_cmap('gray'))"
      ],
      "metadata": {
        "id": "WVv6-0QgNw7W"
      },
      "execution_count": null,
      "outputs": []
    },
    {
      "cell_type": "code",
      "source": [
        "output = model(train_data[15][0][None, ...].to(device)).float()\n",
        "print(output)\n",
        "test_image_prediction = torch.argmax(output, dim=1)\n",
        "print(test_image_prediction)\n",
        "plt.imshow(train_data[15][0][0], cmap=plt.get_cmap('gray'))"
      ],
      "metadata": {
        "colab": {
          "base_uri": "https://localhost:8080/",
          "height": 334
        },
        "id": "rECRIrtJfvm7",
        "outputId": "a8b6aae4-5155-4a50-8ad3-dfcfc11d787c"
      },
      "execution_count": null,
      "outputs": [
        {
          "output_type": "stream",
          "name": "stdout",
          "text": [
            "tensor([[-1.7101,  0.0480, -0.9255,  1.2122,  0.7962, -2.8537, -9.8229, 11.7312,\n",
            "         -1.7583,  4.0170]], device='cuda:0', grad_fn=<AddmmBackward0>)\n",
            "tensor([7], device='cuda:0')\n"
          ]
        },
        {
          "output_type": "execute_result",
          "data": {
            "text/plain": [
              "<matplotlib.image.AxesImage at 0x7ffa3c762850>"
            ]
          },
          "metadata": {},
          "execution_count": 49
        },
        {
          "output_type": "display_data",
          "data": {
            "text/plain": [
              "<Figure size 432x288 with 1 Axes>"
            ],
            "image/png": "[encoded data removed]"
          },
          "metadata": {
            "needs_background": "light"
          }
        }
      ]
    },
    {
      "cell_type": "code",
      "source": [
        "def resize_to_28x28(img):\n",
        "    img_h, img_w = img.shape\n",
        "    dim_size_max = max(img.shape)\n",
        "\n",
        "    if dim_size_max == img_w:\n",
        "        im_h = (26 * img_h) // img_w\n",
        "        if im_h <= 0 or img_w <= 0:\n",
        "            print(\"Invalid Image Dimention: \", im_h, img_w, img_h)\n",
        "        tmp_img = cv2.resize(img, (26,im_h),0,0,cv2.INTER_NEAREST)\n",
        "    else:\n",
        "        im_w = (26 * img_w) // img_h\n",
        "        if im_w <= 0 or img_h <= 0:\n",
        "            print(\"Invalid Image Dimention: \", im_w, img_w, img_h)\n",
        "        tmp_img = cv2.resize(img, (im_w, 26),0,0,cv2.INTER_NEAREST)\n",
        "\n",
        "    out_img = np.zeros((28, 28), dtype=np.ubyte)\n",
        "\n",
        "    nb_h, nb_w = out_img.shape\n",
        "    na_h, na_w = tmp_img.shape\n",
        "    y_min = (nb_w) // 2 - (na_w // 2)\n",
        "    y_max = y_min + na_w\n",
        "    x_min = (nb_h) // 2 - (na_h // 2)\n",
        "    x_max = x_min + na_h\n",
        "\n",
        "    out_img[x_min:x_max, y_min:y_max] = tmp_img\n",
        "\n",
        "    return out_img\n",
        "\n",
        "def run_inference(img):\n",
        "    tsr_img = resize_to_28x28(img)\n",
        "    input_data = np.copy(tsr_img).reshape(1,28,28,1)"
      ],
      "metadata": {
        "id": "oMC8Wc1_xDDW"
      },
      "execution_count": null,
      "outputs": []
    },
    {
      "cell_type": "code",
      "metadata": {
        "colab": {
          "base_uri": "https://localhost:8080/",
          "height": 268
        },
        "id": "bavcsnRALggE",
        "outputId": "17accf6e-24ed-43c0-fc2e-f13eb0e0be0e"
      },
      "source": [
        "for i in range(9):\n",
        "  df = train_data[i+9]\n",
        "  plt.subplot(331 + i)\n",
        "  plt.imshow(df[0][0], cmap=plt.get_cmap('gray'))\n",
        "plt.show()"
      ],
      "execution_count": null,
      "outputs": [
        {
          "output_type": "display_data",
          "data": {
            "text/plain": [
              "<Figure size 432x288 with 9 Axes>"
            ],
            "image/png": "[encoded data removed]"
          },
          "metadata": {
            "needs_background": "light"
          }
        }
      ]
    },
    {
      "cell_type": "markdown",
      "metadata": {
        "id": "oJ1wHzewL5el"
      },
      "source": [
        "Далее необходимо склеить имеющиеся картинки в матрицу, и сгенировать целый набор матриц, используя коэффициенты искожения."
      ]
    },
    {
      "cell_type": "markdown",
      "metadata": {
        "id": "xPBIY2kxx-3n"
      },
      "source": [
        "Для склеивания нужно создать новый массив, который будет содержать оба вложенных массива (по горизонтали)\n",
        "Для склеивания по вертикали будет создаваться новый массив с новым количеством внутренних"
      ]
    },
    {
      "cell_type": "markdown",
      "metadata": {
        "id": "mEeIl6gERvyO"
      },
      "source": [
        "Создадим картинку пустоты"
      ]
    },
    {
      "cell_type": "markdown",
      "metadata": {
        "id": "LYc1ifspWjbF"
      },
      "source": [
        "Напишем функцию для получения случайной картинки и функцию для генерирования матриц заданных размеров"
      ]
    },
    {
      "cell_type": "code",
      "metadata": {
        "id": "KTFyiWPXOD8K",
        "colab": {
          "base_uri": "https://localhost:8080/",
          "height": 150
        },
        "outputId": "038494f5-e5cf-4454-be41-2630f42e0da3"
      },
      "source": [
        "def h_join(df_1, df_2):\n",
        "  new_df = []\n",
        "  for i in range(len(df_1)):\n",
        "    new_df_df = []\n",
        "    for j in range(len(df_1[0])):\n",
        "      new_df_df.append(df_1[i][j])\n",
        "    for j in range(len(df_2[0])):\n",
        "      new_df_df.append(df_2[i][j])\n",
        "    new_df.append(new_df_df)\n",
        "  return new_df\n",
        "\n",
        "def v_join(df_1, df_2):\n",
        "  new_df = []\n",
        "  for i in range(len(df_1)):\n",
        "    new_df_df = []\n",
        "    for j in range(len(df_1[0])):\n",
        "      new_df_df.append(df_1[i][j])\n",
        "    new_df.append(new_df_df)\n",
        "  for i in range(len(df_2)):\n",
        "    new_df_df = []\n",
        "    for j in range(len(df_2[0])):\n",
        "      new_df_df.append(df_2[i][j])\n",
        "    new_df.append(new_df_df)\n",
        "  return new_df\n",
        "\n",
        "# визуализация\n",
        "def visual(img):\n",
        "  nrow, ncolumn = np.shape(img)\n",
        "  nrow = nrow / 28\n",
        "  ncolumn = ncolumn / 28\n",
        "  plt.subplot(nrow, ncolumn, 1)\n",
        "  plt.imshow(img, cmap=plt.get_cmap('gray'))\n",
        "  plt.show()\n",
        "\n",
        "img_1 = v_join(train_data[1][0][0], train_data[2][0][0])\n",
        "img_2 = v_join(train_data[13][0][0], train_data[4][0][0])\n",
        "img = h_join(img_1, img_2)\n",
        "img = np.array(img)\n",
        "\n",
        "visual(img)"
      ],
      "execution_count": null,
      "outputs": [
        {
          "output_type": "display_data",
          "data": {
            "text/plain": [
              "<Figure size 432x288 with 1 Axes>"
            ],
            "image/png": "[encoded data removed]"
          },
          "metadata": {
            "needs_background": "light"
          }
        }
      ]
    },
    {
      "cell_type": "code",
      "metadata": {
        "colab": {
          "base_uri": "https://localhost:8080/",
          "height": 265
        },
        "id": "hlxRktj6RrVC",
        "outputId": "cbd53730-7a24-43d0-c23b-af255f464cf7"
      },
      "source": [
        "img_0 = []\n",
        "for i in range(28):\n",
        "    img_img_0 = []\n",
        "    for j in range(28):\n",
        "      img_img_0.append(0)\n",
        "    img_0.append(img_img_0)\n",
        "img_0 = np.array(img_0)\n",
        "visual(img_0)"
      ],
      "execution_count": null,
      "outputs": [
        {
          "output_type": "display_data",
          "data": {
            "text/plain": [
              "<Figure size 432x288 with 1 Axes>"
            ],
            "image/png": "[encoded data removed]"
          },
          "metadata": {
            "needs_background": "light"
          }
        }
      ]
    },
    {
      "cell_type": "code",
      "metadata": {
        "colab": {
          "base_uri": "https://localhost:8080/",
          "height": 117
        },
        "id": "a3jw1dP2WxsF",
        "outputId": "872ca150-8cef-4664-88c4-33a3b4f50f32"
      },
      "source": [
        "def get_img():\n",
        "  return train_data[round(random.random()*len(train_data))][0][0]\n",
        "\n",
        "def create_matrix(nrow, ncol):\n",
        "  first_line = True\n",
        "  matrix = get_img()\n",
        "  if (nrow > ncol):\n",
        "    for i in range(nrow):\n",
        "      img_1 = get_img()\n",
        "      for j in range(ncol - 1):\n",
        "        img_2 = get_img()\n",
        "        img_1 = h_join(img_1, img_2)\n",
        "      if (first_line):\n",
        "        matrix = img_1\n",
        "        first_line = False\n",
        "      else:\n",
        "        matrix = v_join(matrix, img_1)\n",
        "  elif (nrow == ncol):\n",
        "    for i in range(nrow - 1):\n",
        "      img_1 = get_img()\n",
        "      for j in range(ncol - 1):\n",
        "        img_2 = get_img()\n",
        "        img_1 = h_join(img_1, img_2)\n",
        "      if (first_line):\n",
        "        matrix = img_1\n",
        "        first_line = False\n",
        "      else:\n",
        "        matrix = v_join(matrix, img_1)\n",
        "  else:\n",
        "    for i in range(ncol):\n",
        "      img_1 = get_img()\n",
        "      for j in range(nrow - 1):\n",
        "        img_2 = get_img()\n",
        "        img_1 = v_join(img_1, img_2)\n",
        "      if (first_line):\n",
        "        matrix = img_1\n",
        "        first_line = False\n",
        "      else:\n",
        "        matrix = h_join(matrix, img_1)\n",
        "  return np.array(matrix)\n",
        "matrix = create_matrix(2, 3)\n",
        "visual(matrix)"
      ],
      "execution_count": null,
      "outputs": [
        {
          "output_type": "display_data",
          "data": {
            "text/plain": [
              "<Figure size 432x288 with 1 Axes>"
            ],
            "image/png": "[encoded data removed]"
          },
          "metadata": {
            "needs_background": "light"
          }
        }
      ]
    }
  ]
}